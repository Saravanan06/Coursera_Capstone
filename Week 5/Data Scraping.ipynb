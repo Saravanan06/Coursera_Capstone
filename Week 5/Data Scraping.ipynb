{
 "cells": [
  {
   "cell_type": "code",
   "execution_count": 1,
   "metadata": {},
   "outputs": [],
   "source": [
    "import numpy as np\n",
    "import pandas as pd\n",
    "import folium\n",
    "import json\n",
    "from geopy.geocoders import Nominatim\n",
    "import requests\n",
    "import re\n",
    "from scipy.spatial.distance import cdist\n",
    "from sklearn.cluster import KMeans\n",
    "import matplotlib.pyplot as plt\n",
    "import matplotlib.cm as cm\n",
    "import seaborn as sns\n",
    "import time\n",
    "import math\n",
    "%matplotlib inline"
   ]
  },
  {
   "cell_type": "markdown",
   "metadata": {},
   "source": [
    "### Data Scraping from Web for Chennai City"
   ]
  },
  {
   "cell_type": "code",
   "execution_count": 2,
   "metadata": {},
   "outputs": [],
   "source": [
    "data_url=\"https://en.wikipedia.org/wiki/Areas_of_Chennai\""
   ]
  },
  {
   "cell_type": "code",
   "execution_count": 3,
   "metadata": {},
   "outputs": [],
   "source": [
    "import requests \n",
    "from urllib.request import urlopen\n",
    "from bs4 import BeautifulSoup \n",
    "\n",
    "\n",
    "r = requests.get(data_url) \n",
    "html=urlopen(data_url)\n",
    "soup = BeautifulSoup(html,'html.parser')\n",
    "My_table = soup.find('table',{'class':'wikitable'})\n",
    "data_table = My_table.findAll('td')\n",
    "name=[]\n",
    "for i,data in enumerate(data_table):\n",
    "    name.append(data.text.strip())"
   ]
  },
  {
   "cell_type": "markdown",
   "metadata": {},
   "source": [
    "My_table = soup.find('table',{'class':'wikitable'})\n",
    "name=[]\n",
    "latitude=[]\n",
    "longitude=[]\n",
    "data_table=My_table.findAll('tr',attrs={'class':'tab'})\n",
    "for i,data in enumerate(data_table):\n",
    "    if i!=105:\n",
    "        row=data.find_all('td')\n",
    "        name.append(row[1].text.strip())\n",
    "        latitude.append(row[2].text.strip())\n",
    "        longitude.append(row[3].text.strip())\n",
    "data=pd.DataFrame({\"S.No\":range(1,len(name)+1),\n",
    "                   \"Location\":name,\n",
    "                   \"Latitude\":latitude,\n",
    "                   \"Longitude\":longitude\n",
    "                  })"
   ]
  },
  {
   "cell_type": "markdown",
   "metadata": {},
   "source": [
    "### Obtain Latitude and Longitude"
   ]
  },
  {
   "cell_type": "code",
   "execution_count": 4,
   "metadata": {},
   "outputs": [
    {
     "data": {
      "text/plain": [
       "163"
      ]
     },
     "execution_count": 4,
     "metadata": {},
     "output_type": "execute_result"
    }
   ],
   "source": [
    "len(name)"
   ]
  },
  {
   "cell_type": "code",
   "execution_count": 5,
   "metadata": {},
   "outputs": [
    {
     "data": {
      "text/plain": [
       "['Adambakkam',\n",
       " 'Adyar',\n",
       " 'Alandur',\n",
       " 'Alapakkam',\n",
       " 'Alwarpet',\n",
       " 'Alwarthirunagar',\n",
       " 'Ambattur',\n",
       " 'Aminjikarai',\n",
       " 'Anna Nagar',\n",
       " 'Annanur',\n",
       " 'Arumbakkam',\n",
       " 'Ashok Nagar',\n",
       " 'Avadi',\n",
       " 'Ayanavaram',\n",
       " 'Besant Nagar',\n",
       " 'Basin Bridge',\n",
       " 'Chepauk',\n",
       " 'Chetput',\n",
       " 'Chintadripet',\n",
       " 'Chitlapakkam',\n",
       " 'Choolai',\n",
       " 'Choolaimedu',\n",
       " 'Chrompet',\n",
       " 'Egmore',\n",
       " 'Ekkaduthangal',\n",
       " 'Eranavur',\n",
       " 'Ennore',\n",
       " 'Foreshore Estate',\n",
       " 'Fort St. George',\n",
       " 'George Town',\n",
       " 'Gopalapuram',\n",
       " 'Government Estate',\n",
       " 'Guindy',\n",
       " 'Gerugambakkam',\n",
       " 'IIT Madras',\n",
       " 'Injambakkam',\n",
       " 'ICF',\n",
       " 'Iyyapanthangal',\n",
       " 'Jafferkhanpet',\n",
       " 'Karapakkam',\n",
       " 'Kattivakkam',\n",
       " 'Kattupakkam',\n",
       " 'Kazhipattur',\n",
       " 'K.K. Nagar',\n",
       " 'Keelkattalai',\n",
       " 'Kattivakkam',\n",
       " 'Kilpauk',\n",
       " 'Kodambakkam',\n",
       " 'Kodungaiyur',\n",
       " 'Kolathur',\n",
       " 'Korattur',\n",
       " 'Korukkupet',\n",
       " 'Kottivakkam',\n",
       " 'Kotturpuram',\n",
       " 'Kottur',\n",
       " 'Kovilambakkam',\n",
       " 'Koyambedu',\n",
       " 'Kundrathur',\n",
       " 'Madhavaram',\n",
       " 'Madhavaram Milk Colony',\n",
       " 'Madipakkam',\n",
       " 'Madambakkam',\n",
       " 'Maduravoyal',\n",
       " 'Manali',\n",
       " 'Manali New Town',\n",
       " 'Manapakkam',\n",
       " 'Mandaveli',\n",
       " 'Mangadu',\n",
       " 'Mannady',\n",
       " 'Mathur',\n",
       " 'Medavakkam',\n",
       " 'Meenambakkam',\n",
       " 'MGR Nagar',\n",
       " 'Minjur',\n",
       " 'Mogappair',\n",
       " 'MKB Nagar',\n",
       " 'Mount Road',\n",
       " 'Moolakadai',\n",
       " 'Moulivakkam',\n",
       " 'Mugalivakkam',\n",
       " 'Mudichur',\n",
       " 'Mylapore',\n",
       " 'Nandanam',\n",
       " 'Nanganallur',\n",
       " 'Nanmangalam',\n",
       " 'Neelankarai',\n",
       " 'Nemilichery',\n",
       " 'Nesapakkam',\n",
       " 'Nolambur',\n",
       " 'Noombal',\n",
       " 'Nungambakkam',\n",
       " 'Otteri',\n",
       " 'Padi',\n",
       " 'Pakkam',\n",
       " 'Palavakkam',\n",
       " 'Pallavaram',\n",
       " 'Pallikaranai',\n",
       " 'Pammal',\n",
       " 'Park Town',\n",
       " \"Parry's Corner\",\n",
       " 'Pattabiram',\n",
       " 'Pattaravakkam',\n",
       " 'Pazhavanthangal',\n",
       " 'Peerkankaranai',\n",
       " 'Perambur',\n",
       " 'Peravallur',\n",
       " 'Perumbakkam',\n",
       " 'Perungalathur',\n",
       " 'Perungudi',\n",
       " 'Pozhichalur',\n",
       " 'Poonamallee',\n",
       " 'Porur',\n",
       " 'Pudupet',\n",
       " 'Pulianthope',\n",
       " 'Purasaiwalkam',\n",
       " 'Puthagaram',\n",
       " 'Puzhal',\n",
       " 'Puzhuthivakkam/ Ullagaram',\n",
       " 'Raj Bhavan',\n",
       " 'Ramavaram',\n",
       " 'Red Hills',\n",
       " 'Royapettah',\n",
       " 'Royapuram',\n",
       " 'Saidapet',\n",
       " 'Saligramam',\n",
       " 'Santhome',\n",
       " 'Sembakkam',\n",
       " 'Selaiyur',\n",
       " 'Shenoy Nagar',\n",
       " 'Sholavaram',\n",
       " 'Sholinganallur',\n",
       " 'Sithalapakkam',\n",
       " 'Sowcarpet',\n",
       " 'St.Thomas Mount',\n",
       " 'Surapet',\n",
       " 'Tambaram',\n",
       " 'Teynampet',\n",
       " 'Tharamani',\n",
       " 'T. Nagar',\n",
       " 'Thirumangalam',\n",
       " 'Thirumullaivoyal',\n",
       " 'Thiruneermalai',\n",
       " 'Thiruninravur',\n",
       " 'Thiruvanmiyur',\n",
       " 'Tiruverkadu',\n",
       " 'Thiruvotriyur',\n",
       " 'Thuraipakkam',\n",
       " 'Tirusulam',\n",
       " 'Tiruvallikeni',\n",
       " 'Tondiarpet',\n",
       " 'United India Colony',\n",
       " 'Vandalur',\n",
       " 'Vadapalani',\n",
       " 'Valasaravakkam',\n",
       " 'Vallalar Nagar',\n",
       " 'Vanagaram',\n",
       " 'Velachery',\n",
       " 'Velappanchavadi',\n",
       " 'Villivakkam',\n",
       " 'Virugambakkam',\n",
       " 'Vyasarpadi',\n",
       " 'Washermanpet',\n",
       " 'West Mambalam']"
      ]
     },
     "execution_count": 5,
     "metadata": {},
     "output_type": "execute_result"
    }
   ],
   "source": [
    "name"
   ]
  },
  {
   "cell_type": "code",
   "execution_count": 6,
   "metadata": {},
   "outputs": [],
   "source": [
    "def lat_lon(x):\n",
    "    try:\n",
    "        address=x\n",
    "        geolocator=Nominatim(user_agent=\"My application\")\n",
    "        location=geolocator.geocode(address)\n",
    "        return location.latitude,location.longitude\n",
    "    except:\n",
    "        return 0,0\n"
   ]
  },
  {
   "cell_type": "code",
   "execution_count": 7,
   "metadata": {},
   "outputs": [],
   "source": [
    "latitude=[]\n",
    "longitude=[]"
   ]
  },
  {
   "cell_type": "code",
   "execution_count": 8,
   "metadata": {},
   "outputs": [],
   "source": [
    "for i in range(0,20):\n",
    "    lat,lon=lat_lon(name[i])\n",
    "    latitude.append(lat)\n",
    "    longitude.append(lon)\n"
   ]
  },
  {
   "cell_type": "code",
   "execution_count": 9,
   "metadata": {},
   "outputs": [
    {
     "data": {
      "text/plain": [
       "[12.9822215,\n",
       " 13.00645,\n",
       " 13.00282155,\n",
       " 13.049901,\n",
       " 13.0338602,\n",
       " 13.047486,\n",
       " 13.1128863,\n",
       " 13.0721399,\n",
       " 0,\n",
       " 13.1163563,\n",
       " 13.074371,\n",
       " 13.0400731,\n",
       " 13.1254758,\n",
       " 0,\n",
       " 12.9996907,\n",
       " 13.1080471,\n",
       " 13.06363,\n",
       " 12.4675265,\n",
       " 13.0761258,\n",
       " 12.9330984]"
      ]
     },
     "execution_count": 9,
     "metadata": {},
     "output_type": "execute_result"
    }
   ],
   "source": [
    "latitude"
   ]
  },
  {
   "cell_type": "code",
   "execution_count": 10,
   "metadata": {},
   "outputs": [],
   "source": [
    "for i in range(20,40):\n",
    "    lat,lon=lat_lon(name[i])\n",
    "    latitude.append(lat)\n",
    "    longitude.append(lon)\n",
    "for i in range(40,60):\n",
    "    lat,lon=lat_lon(name[i])\n",
    "    latitude.append(lat)\n",
    "    longitude.append(lon)\n",
    "for i in range(60,80):\n",
    "    lat,lon=lat_lon(name[i])\n",
    "    latitude.append(lat)\n",
    "    longitude.append(lon)\n",
    "for i in range(80,100):\n",
    "    lat,lon=lat_lon(name[i])\n",
    "    latitude.append(lat)\n",
    "    longitude.append(lon)\n",
    "for i in range(100,120):\n",
    "    lat,lon=lat_lon(name[i])\n",
    "    latitude.append(lat)\n",
    "    longitude.append(lon)\n",
    "for i in range(120,140):\n",
    "    lat,lon=lat_lon(name[i])\n",
    "    latitude.append(lat)\n",
    "    longitude.append(lon)\n",
    "for i in range(140,len(name)):\n",
    "    lat,lon=lat_lon(name[i])\n",
    "    latitude.append(lat)\n",
    "    longitude.append(lon)\n",
    "\n",
    "\n",
    "\n"
   ]
  },
  {
   "cell_type": "code",
   "execution_count": 11,
   "metadata": {},
   "outputs": [
    {
     "name": "stdout",
     "output_type": "stream",
     "text": [
      "163 163\n"
     ]
    }
   ],
   "source": [
    "print(len(latitude),len(longitude))"
   ]
  },
  {
   "cell_type": "code",
   "execution_count": 12,
   "metadata": {},
   "outputs": [],
   "source": [
    "data=pd.DataFrame({\"Location\":name,\"Latitude\":latitude,\"Longitude\":longitude})"
   ]
  },
  {
   "cell_type": "code",
   "execution_count": 13,
   "metadata": {},
   "outputs": [],
   "source": [
    "data=data.append({\"Location\":\"Velappanchavadi\",\"Latitude\":13.05849,\"Longitude\":80.134405,\"Cluster\":0},ignore_index=True,)"
   ]
  },
  {
   "cell_type": "code",
   "execution_count": 14,
   "metadata": {},
   "outputs": [],
   "source": [
    "data=data.append({\"Location\":\"Ekkaduthangal\",\"Latitude\":13.02248,\"Longitude\":80.203187},ignore_index=True)\n",
    "data=data.append({\"Location\":\"Eranavur\",\"Latitude\":13.189569,\"Longitude\":80.3039},ignore_index=True)\n",
    "data=data.append({\"Location\":\"Kattivakkam\",\"Latitude\":13.216133,\"Longitude\":80.318177},ignore_index=True)\n",
    "data=data.append({\"Location\":\"Kazhipattur\",\"Latitude\":12.823581,\"Longitude\":80.231043},ignore_index=True)\n",
    "data=data.append({\"Location\":\"Perumbakkam\",\"Latitude\":12.892316,\"Longitude\":80.188892},ignore_index=True)\n",
    "data=data.append({\"Location\":\"Pudupet\",\"Latitude\":12.532496,\"Longitude\":78.510064},ignore_index=True)\n",
    "data=data.append({\"Location\":\"Pulianthope\",\"Latitude\":13.089714,\"Longitude\":80.254126},ignore_index=True)\n",
    "data=data.append({\"Location\":\"Purasaiwalkam\",\"Latitude\":13.02248,\"Longitude\":80.203187},ignore_index=True)\n",
    "data=data.append({\"Location\":\"Puthagaram\",\"Latitude\":10.461796,\"Longitude\":79.523907},ignore_index=True)\n",
    "data=data.append({\"Location\":\"Surapet\",\"Latitude\":13.145407,\"Longitude\":80.183808},ignore_index=True)\n",
    "data=data.append({\"Location\":\"Tiruverkadu\",\"Latitude\":13.070637,\"Longitude\":80.128979},ignore_index=True)\n",
    "data=data.append({\"Location\":\"Thiruvotriyur\",\"Latitude\":13.1691914,\"Longitude\":80.3045793},ignore_index=True)\n",
    "data=data.append({\"Location\":\"Thiruvallikeni\",\"Latitude\":13.0587107,\"Longitude\":80.27570630000002},ignore_index=True)\n",
    "data=data.append({\"Location\":\"Velappanchavadi\",\"Latitude\":13.058523,\"Longitude\":80.135452},ignore_index=True)\n",
    "\n"
   ]
  },
  {
   "cell_type": "code",
   "execution_count": 15,
   "metadata": {},
   "outputs": [
    {
     "data": {
      "text/html": [
       "<div>\n",
       "<style scoped>\n",
       "    .dataframe tbody tr th:only-of-type {\n",
       "        vertical-align: middle;\n",
       "    }\n",
       "\n",
       "    .dataframe tbody tr th {\n",
       "        vertical-align: top;\n",
       "    }\n",
       "\n",
       "    .dataframe thead th {\n",
       "        text-align: right;\n",
       "    }\n",
       "</style>\n",
       "<table border=\"1\" class=\"dataframe\">\n",
       "  <thead>\n",
       "    <tr style=\"text-align: right;\">\n",
       "      <th></th>\n",
       "      <th>Location</th>\n",
       "      <th>Latitude</th>\n",
       "      <th>Longitude</th>\n",
       "      <th>Cluster</th>\n",
       "    </tr>\n",
       "  </thead>\n",
       "  <tbody>\n",
       "    <tr>\n",
       "      <th>36</th>\n",
       "      <td>ICF</td>\n",
       "      <td>44.277012</td>\n",
       "      <td>-105.508473</td>\n",
       "      <td>NaN</td>\n",
       "    </tr>\n",
       "  </tbody>\n",
       "</table>\n",
       "</div>"
      ],
      "text/plain": [
       "   Location   Latitude   Longitude  Cluster\n",
       "36      ICF  44.277012 -105.508473      NaN"
      ]
     },
     "execution_count": 15,
     "metadata": {},
     "output_type": "execute_result"
    }
   ],
   "source": [
    "data[data['Location']=='ICF']"
   ]
  },
  {
   "cell_type": "code",
   "execution_count": 16,
   "metadata": {},
   "outputs": [
    {
     "data": {
      "text/html": [
       "<div>\n",
       "<style scoped>\n",
       "    .dataframe tbody tr th:only-of-type {\n",
       "        vertical-align: middle;\n",
       "    }\n",
       "\n",
       "    .dataframe tbody tr th {\n",
       "        vertical-align: top;\n",
       "    }\n",
       "\n",
       "    .dataframe thead th {\n",
       "        text-align: right;\n",
       "    }\n",
       "</style>\n",
       "<table border=\"1\" class=\"dataframe\">\n",
       "  <thead>\n",
       "    <tr style=\"text-align: right;\">\n",
       "      <th></th>\n",
       "      <th>Location</th>\n",
       "      <th>Latitude</th>\n",
       "      <th>Longitude</th>\n",
       "      <th>Cluster</th>\n",
       "    </tr>\n",
       "  </thead>\n",
       "  <tbody>\n",
       "    <tr>\n",
       "      <th>17</th>\n",
       "      <td>Chetput</td>\n",
       "      <td>13.071521</td>\n",
       "      <td>80.241516</td>\n",
       "      <td>NaN</td>\n",
       "    </tr>\n",
       "  </tbody>\n",
       "</table>\n",
       "</div>"
      ],
      "text/plain": [
       "   Location   Latitude  Longitude  Cluster\n",
       "17  Chetput  13.071521  80.241516      NaN"
      ]
     },
     "execution_count": 16,
     "metadata": {},
     "output_type": "execute_result"
    }
   ],
   "source": [
    "data.loc[data['Location']=='Chetput','Latitude']=13.071521\n",
    "data.loc[data['Location']=='Chetput','Longitude']=80.241516\n",
    "data.loc[data['Location']=='Chetput']"
   ]
  },
  {
   "cell_type": "code",
   "execution_count": 17,
   "metadata": {},
   "outputs": [],
   "source": [
    "waste=data[data['Latitude']==0].index"
   ]
  },
  {
   "cell_type": "code",
   "execution_count": 18,
   "metadata": {},
   "outputs": [
    {
     "data": {
      "text/plain": [
       "Int64Index([  8,  13,  24,  25,  40,  42,  45,  65,  75,  76, 111, 114, 124,\n",
       "            134, 136, 144, 145, 148, 157],\n",
       "           dtype='int64')"
      ]
     },
     "execution_count": 18,
     "metadata": {},
     "output_type": "execute_result"
    }
   ],
   "source": [
    "waste"
   ]
  },
  {
   "cell_type": "code",
   "execution_count": 19,
   "metadata": {},
   "outputs": [],
   "source": [
    "data=data.drop(waste,axis=0)"
   ]
  },
  {
   "cell_type": "code",
   "execution_count": 20,
   "metadata": {},
   "outputs": [],
   "source": [
    "data=data.drop(162)"
   ]
  },
  {
   "cell_type": "code",
   "execution_count": 21,
   "metadata": {},
   "outputs": [
    {
     "data": {
      "text/html": [
       "<div>\n",
       "<style scoped>\n",
       "    .dataframe tbody tr th:only-of-type {\n",
       "        vertical-align: middle;\n",
       "    }\n",
       "\n",
       "    .dataframe tbody tr th {\n",
       "        vertical-align: top;\n",
       "    }\n",
       "\n",
       "    .dataframe thead th {\n",
       "        text-align: right;\n",
       "    }\n",
       "</style>\n",
       "<table border=\"1\" class=\"dataframe\">\n",
       "  <thead>\n",
       "    <tr style=\"text-align: right;\">\n",
       "      <th></th>\n",
       "      <th>Location</th>\n",
       "      <th>Latitude</th>\n",
       "      <th>Longitude</th>\n",
       "      <th>Cluster</th>\n",
       "    </tr>\n",
       "  </thead>\n",
       "  <tbody>\n",
       "    <tr>\n",
       "      <th>29</th>\n",
       "      <td>George Town</td>\n",
       "      <td>5.414568</td>\n",
       "      <td>100.329803</td>\n",
       "      <td>NaN</td>\n",
       "    </tr>\n",
       "    <tr>\n",
       "      <th>68</th>\n",
       "      <td>Mannady</td>\n",
       "      <td>9.088030</td>\n",
       "      <td>76.737411</td>\n",
       "      <td>NaN</td>\n",
       "    </tr>\n",
       "    <tr>\n",
       "      <th>139</th>\n",
       "      <td>Thirumangalam</td>\n",
       "      <td>9.798009</td>\n",
       "      <td>77.929843</td>\n",
       "      <td>NaN</td>\n",
       "    </tr>\n",
       "  </tbody>\n",
       "</table>\n",
       "</div>"
      ],
      "text/plain": [
       "          Location  Latitude   Longitude  Cluster\n",
       "29     George Town  5.414568  100.329803      NaN\n",
       "68         Mannady  9.088030   76.737411      NaN\n",
       "139  Thirumangalam  9.798009   77.929843      NaN"
      ]
     },
     "execution_count": 21,
     "metadata": {},
     "output_type": "execute_result"
    }
   ],
   "source": [
    "data[data['Latitude']<10]"
   ]
  },
  {
   "cell_type": "code",
   "execution_count": 22,
   "metadata": {},
   "outputs": [],
   "source": [
    "data.sort_values(\"Latitude\",inplace=True)"
   ]
  },
  {
   "cell_type": "code",
   "execution_count": 23,
   "metadata": {},
   "outputs": [],
   "source": [
    "data.index=range(len(data))"
   ]
  },
  {
   "cell_type": "code",
   "execution_count": 24,
   "metadata": {},
   "outputs": [
    {
     "data": {
      "text/html": [
       "<div>\n",
       "<style scoped>\n",
       "    .dataframe tbody tr th:only-of-type {\n",
       "        vertical-align: middle;\n",
       "    }\n",
       "\n",
       "    .dataframe tbody tr th {\n",
       "        vertical-align: top;\n",
       "    }\n",
       "\n",
       "    .dataframe thead th {\n",
       "        text-align: right;\n",
       "    }\n",
       "</style>\n",
       "<table border=\"1\" class=\"dataframe\">\n",
       "  <thead>\n",
       "    <tr style=\"text-align: right;\">\n",
       "      <th></th>\n",
       "      <th>Location</th>\n",
       "      <th>Latitude</th>\n",
       "      <th>Longitude</th>\n",
       "      <th>Cluster</th>\n",
       "    </tr>\n",
       "  </thead>\n",
       "  <tbody>\n",
       "    <tr>\n",
       "      <th>0</th>\n",
       "      <td>George Town</td>\n",
       "      <td>5.414568</td>\n",
       "      <td>100.329803</td>\n",
       "      <td>NaN</td>\n",
       "    </tr>\n",
       "    <tr>\n",
       "      <th>1</th>\n",
       "      <td>Mannady</td>\n",
       "      <td>9.088030</td>\n",
       "      <td>76.737411</td>\n",
       "      <td>NaN</td>\n",
       "    </tr>\n",
       "    <tr>\n",
       "      <th>2</th>\n",
       "      <td>Thirumangalam</td>\n",
       "      <td>9.798009</td>\n",
       "      <td>77.929843</td>\n",
       "      <td>NaN</td>\n",
       "    </tr>\n",
       "    <tr>\n",
       "      <th>3</th>\n",
       "      <td>Puthagaram</td>\n",
       "      <td>10.461796</td>\n",
       "      <td>79.523907</td>\n",
       "      <td>NaN</td>\n",
       "    </tr>\n",
       "    <tr>\n",
       "      <th>4</th>\n",
       "      <td>K.K. Nagar</td>\n",
       "      <td>11.210465</td>\n",
       "      <td>78.169173</td>\n",
       "      <td>NaN</td>\n",
       "    </tr>\n",
       "  </tbody>\n",
       "</table>\n",
       "</div>"
      ],
      "text/plain": [
       "        Location   Latitude   Longitude  Cluster\n",
       "0    George Town   5.414568  100.329803      NaN\n",
       "1        Mannady   9.088030   76.737411      NaN\n",
       "2  Thirumangalam   9.798009   77.929843      NaN\n",
       "3     Puthagaram  10.461796   79.523907      NaN\n",
       "4     K.K. Nagar  11.210465   78.169173      NaN"
      ]
     },
     "execution_count": 24,
     "metadata": {},
     "output_type": "execute_result"
    }
   ],
   "source": [
    "data.head()"
   ]
  },
  {
   "cell_type": "code",
   "execution_count": 25,
   "metadata": {},
   "outputs": [],
   "source": [
    "data.index=range(0,len(data))"
   ]
  },
  {
   "cell_type": "code",
   "execution_count": 26,
   "metadata": {},
   "outputs": [
    {
     "data": {
      "text/html": [
       "<div>\n",
       "<style scoped>\n",
       "    .dataframe tbody tr th:only-of-type {\n",
       "        vertical-align: middle;\n",
       "    }\n",
       "\n",
       "    .dataframe tbody tr th {\n",
       "        vertical-align: top;\n",
       "    }\n",
       "\n",
       "    .dataframe thead th {\n",
       "        text-align: right;\n",
       "    }\n",
       "</style>\n",
       "<table border=\"1\" class=\"dataframe\">\n",
       "  <thead>\n",
       "    <tr style=\"text-align: right;\">\n",
       "      <th></th>\n",
       "      <th>Location</th>\n",
       "      <th>Latitude</th>\n",
       "      <th>Longitude</th>\n",
       "      <th>Cluster</th>\n",
       "    </tr>\n",
       "  </thead>\n",
       "  <tbody>\n",
       "    <tr>\n",
       "      <th>0</th>\n",
       "      <td>George Town</td>\n",
       "      <td>5.414568</td>\n",
       "      <td>100.329803</td>\n",
       "      <td>NaN</td>\n",
       "    </tr>\n",
       "    <tr>\n",
       "      <th>1</th>\n",
       "      <td>Mannady</td>\n",
       "      <td>9.088030</td>\n",
       "      <td>76.737411</td>\n",
       "      <td>NaN</td>\n",
       "    </tr>\n",
       "    <tr>\n",
       "      <th>2</th>\n",
       "      <td>Thirumangalam</td>\n",
       "      <td>9.798009</td>\n",
       "      <td>77.929843</td>\n",
       "      <td>NaN</td>\n",
       "    </tr>\n",
       "    <tr>\n",
       "      <th>3</th>\n",
       "      <td>Puthagaram</td>\n",
       "      <td>10.461796</td>\n",
       "      <td>79.523907</td>\n",
       "      <td>NaN</td>\n",
       "    </tr>\n",
       "    <tr>\n",
       "      <th>4</th>\n",
       "      <td>K.K. Nagar</td>\n",
       "      <td>11.210465</td>\n",
       "      <td>78.169173</td>\n",
       "      <td>NaN</td>\n",
       "    </tr>\n",
       "    <tr>\n",
       "      <th>...</th>\n",
       "      <td>...</td>\n",
       "      <td>...</td>\n",
       "      <td>...</td>\n",
       "      <td>...</td>\n",
       "    </tr>\n",
       "    <tr>\n",
       "      <th>153</th>\n",
       "      <td>Raj Bhavan</td>\n",
       "      <td>17.419422</td>\n",
       "      <td>78.460455</td>\n",
       "      <td>NaN</td>\n",
       "    </tr>\n",
       "    <tr>\n",
       "      <th>154</th>\n",
       "      <td>Ramavaram</td>\n",
       "      <td>17.770062</td>\n",
       "      <td>81.864590</td>\n",
       "      <td>NaN</td>\n",
       "    </tr>\n",
       "    <tr>\n",
       "      <th>155</th>\n",
       "      <td>Manali New Town</td>\n",
       "      <td>32.245461</td>\n",
       "      <td>77.187293</td>\n",
       "      <td>NaN</td>\n",
       "    </tr>\n",
       "    <tr>\n",
       "      <th>156</th>\n",
       "      <td>Manali</td>\n",
       "      <td>32.263094</td>\n",
       "      <td>77.188122</td>\n",
       "      <td>NaN</td>\n",
       "    </tr>\n",
       "    <tr>\n",
       "      <th>157</th>\n",
       "      <td>ICF</td>\n",
       "      <td>44.277012</td>\n",
       "      <td>-105.508473</td>\n",
       "      <td>NaN</td>\n",
       "    </tr>\n",
       "  </tbody>\n",
       "</table>\n",
       "<p>158 rows × 4 columns</p>\n",
       "</div>"
      ],
      "text/plain": [
       "            Location   Latitude   Longitude  Cluster\n",
       "0        George Town   5.414568  100.329803      NaN\n",
       "1            Mannady   9.088030   76.737411      NaN\n",
       "2      Thirumangalam   9.798009   77.929843      NaN\n",
       "3         Puthagaram  10.461796   79.523907      NaN\n",
       "4         K.K. Nagar  11.210465   78.169173      NaN\n",
       "..               ...        ...         ...      ...\n",
       "153       Raj Bhavan  17.419422   78.460455      NaN\n",
       "154        Ramavaram  17.770062   81.864590      NaN\n",
       "155  Manali New Town  32.245461   77.187293      NaN\n",
       "156           Manali  32.263094   77.188122      NaN\n",
       "157              ICF  44.277012 -105.508473      NaN\n",
       "\n",
       "[158 rows x 4 columns]"
      ]
     },
     "execution_count": 26,
     "metadata": {},
     "output_type": "execute_result"
    }
   ],
   "source": [
    "data"
   ]
  },
  {
   "cell_type": "code",
   "execution_count": 27,
   "metadata": {},
   "outputs": [],
   "source": [
    "data.to_csv(\"chennai_coordinates.csv\")"
   ]
  },
  {
   "cell_type": "markdown",
   "metadata": {},
   "source": [
    "# Marking All locations in Map"
   ]
  },
  {
   "cell_type": "code",
   "execution_count": null,
   "metadata": {},
   "outputs": [],
   "source": [
    "address='Chennai'\n",
    "\n",
    "geolocator=Nominatim()\n",
    "location=geolocator.geocode(address)\n",
    "che_lat=location.latitude\n",
    "che_lon=location.longitude"
   ]
  },
  {
   "cell_type": "code",
   "execution_count": null,
   "metadata": {},
   "outputs": [],
   "source": [
    "che_lat"
   ]
  },
  {
   "cell_type": "code",
   "execution_count": null,
   "metadata": {},
   "outputs": [],
   "source": [
    "def plot_map(data,clusters):\n",
    "\n",
    "    map_chennai=folium.Map(location=[che_lat,che_lon],zoom_start=10)\n",
    "    colors = ['red','blue','white','yellow']\n",
    "    for lat,lng,loc,cluster in zip(data['Latitude'],data['Longitude'],data['Location'],data['Cluster']):\n",
    "        label='{}'.format(loc)\n",
    "        label=folium.Popup(label,parse_html=True)\n",
    "        folium.CircleMarker(\n",
    "        location=[lat,lng],\n",
    "        radius=5,\n",
    "        color='black',\n",
    "        popup=label,\n",
    "        fill=True,\n",
    "        fill_color=colors[int(cluster%4)],\n",
    "        fill_opacity=0.7,\n",
    "        ).add_to(map_chennai)\n",
    "    return map_chennai"
   ]
  },
  {
   "cell_type": "code",
   "execution_count": null,
   "metadata": {},
   "outputs": [],
   "source": [
    "map_chennai=folium.Map(location=[che_lat,che_lon],zoom_start=10)\n",
    "#color=['red','blue','yellow']\n",
    "for lat,lng,loc in zip(data['Latitude'],data['Longitude'],data['Location']):\n",
    "    label='{}-{},{}'.format(loc,lat,lng)\n",
    "    label=folium.Popup(label,parse_html=True)\n",
    "    folium.CircleMarker(\n",
    "    location=[lat,lng],\n",
    "    radius=5,\n",
    "    color='red',\n",
    "    popup=label,\n",
    "    fill=True,\n",
    "    fill_opacity=1,\n",
    "    parse_html=True\n",
    "    ).add_to(map_chennai)\n",
    "    \n",
    "map_chennai"
   ]
  },
  {
   "cell_type": "markdown",
   "metadata": {},
   "source": [
    "### Choosing Best 'K' Value"
   ]
  },
  {
   "cell_type": "code",
   "execution_count": null,
   "metadata": {},
   "outputs": [],
   "source": [
    "chennai_cluster=data.drop('Location',axis=1)\n",
    "inertia=[]\n",
    "distortion=[]\n",
    "for i in range(1,11):\n",
    "    kmeans=KMeans(n_clusters=i,random_state=0).fit(chennai_cluster)\n",
    "    inertia.append(kmeans.inertia_)\n",
    "    distortion.append(sum(np.min(cdist(chennai_cluster, kmeans.cluster_centers_, \n",
    "                 'euclidean'),axis=1)) / chennai_cluster.shape[0])\n",
    "    \n",
    "    "
   ]
  },
  {
   "cell_type": "code",
   "execution_count": null,
   "metadata": {},
   "outputs": [],
   "source": [
    "fig=plt.Figure(figsize=(10,5))\n",
    "ax1=fig.add_subplot(1,2,1)\n",
    "ax2=fig.add_subplot(1,2,2)\n",
    "ax1.plot(range(1,11),inertia)\n",
    "ax2.plot(range(1,11),distortion)\n",
    "ax1.set_title('Elbow using Inertia')\n",
    "ax2.set_title('Elbow using Distortion')\n",
    "ax1.set_xlabel('K')\n",
    "ax1.set_ylabel('Inertia')\n",
    "ax2.set_xlabel('K')\n",
    "ax2.set_ylabel('Distortion')\n",
    "plt.tight_layout(\"best\")\n",
    "fig"
   ]
  },
  {
   "cell_type": "markdown",
   "metadata": {},
   "source": [
    "## Plotting Chennai Map based on cluster"
   ]
  },
  {
   "cell_type": "markdown",
   "metadata": {},
   "source": [
    "### Clustering the Map"
   ]
  },
  {
   "cell_type": "code",
   "execution_count": null,
   "metadata": {},
   "outputs": [],
   "source": [
    "data.columns.shape[0]"
   ]
  },
  {
   "cell_type": "code",
   "execution_count": null,
   "metadata": {},
   "outputs": [],
   "source": [
    "n_clusters=4\n",
    "if(data.columns.shape[0]>3):\n",
    "    kmeans=KMeans(n_clusters,random_state=5,max_iter=3000).fit(data.drop(['Location','Distance','Cluster'],axis=1))\n",
    "else:\n",
    "    kmeans=KMeans(n_clusters,random_state=5,max_iter=3000).fit(data.drop(['Location'],axis=1))\n",
    "kmeans.labels_"
   ]
  },
  {
   "cell_type": "code",
   "execution_count": null,
   "metadata": {},
   "outputs": [],
   "source": [
    "kmeans.cluster_centers_"
   ]
  },
  {
   "cell_type": "code",
   "execution_count": null,
   "metadata": {},
   "outputs": [],
   "source": [
    "data['Cluster']=kmeans.labels_"
   ]
  },
  {
   "cell_type": "code",
   "execution_count": null,
   "metadata": {},
   "outputs": [],
   "source": [
    "def compute_dist(lat,lon,cluster):\n",
    "    diff_1=kmeans.cluster_centers_[cluster][0]-lat\n",
    "    diff_2=kmeans.cluster_centers_[cluster][1]-lon\n",
    "    #print(diff_2**2+diff_1**2)\n",
    "    return math.sqrt(diff_1**2+diff_2**2)"
   ]
  },
  {
   "cell_type": "code",
   "execution_count": null,
   "metadata": {},
   "outputs": [],
   "source": [
    "print(compute_dist(1,2,2))"
   ]
  },
  {
   "cell_type": "code",
   "execution_count": null,
   "metadata": {},
   "outputs": [],
   "source": [
    "data['Distance']=0#chennai.apply(compute_dist(chennai['Latitude'],chennai['Longitude'],chennai['Cluster']))"
   ]
  },
  {
   "cell_type": "code",
   "execution_count": null,
   "metadata": {},
   "outputs": [],
   "source": [
    "for i in range(len(chennai)):\n",
    "    data['Distance'][i]=compute_dist(data['Latitude'][i],data['Longitude'][i],data['Cluster'][i])"
   ]
  },
  {
   "cell_type": "code",
   "execution_count": null,
   "metadata": {},
   "outputs": [],
   "source": [
    "plt.figure(figsize=(20,15))\n",
    "color=['red','blue','green','black']\n",
    "for i in range(0,kmeans.cluster_centers_.shape[0]):\n",
    "    plt.scatter(chennai[chennai['Cluster']==i]['Longitude'],chennai[chennai['Cluster']==i]['Latitude'],c=color[i],s=100)\n",
    "plt.scatter(kmeans.cluster_centers_[:,1],kmeans.cluster_centers_[:,0],c='yellow',s=300)\n",
    "for i in range(0,len(data)):\n",
    "     plt.text(chennai['Longitude'][i],chennai['Latitude'][i],s=chennai['Location'][i],size=10)\n",
    "plt.xlabel(\"Longitude\")\n",
    "plt.ylabel(\"Latitude\")\n",
    "plt.show()"
   ]
  },
  {
   "cell_type": "code",
   "execution_count": null,
   "metadata": {},
   "outputs": [],
   "source": [
    "plot_map(data,n_clusters)"
   ]
  },
  {
   "cell_type": "code",
   "execution_count": null,
   "metadata": {},
   "outputs": [],
   "source": [
    "#data.to_csv(\"Chennai_Clustered.csv\")"
   ]
  },
  {
   "cell_type": "code",
   "execution_count": null,
   "metadata": {},
   "outputs": [],
   "source": []
  }
 ],
 "metadata": {
  "kernelspec": {
   "display_name": "Python 3",
   "language": "python",
   "name": "python3"
  },
  "language_info": {
   "codemirror_mode": {
    "name": "ipython",
    "version": 3
   },
   "file_extension": ".py",
   "mimetype": "text/x-python",
   "name": "python",
   "nbconvert_exporter": "python",
   "pygments_lexer": "ipython3",
   "version": "3.7.4"
  }
 },
 "nbformat": 4,
 "nbformat_minor": 4
}
